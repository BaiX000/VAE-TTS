{
 "cells": [
  {
   "cell_type": "code",
   "execution_count": 1,
   "id": "a8214b04-3d77-4c2c-9c91-1ff1b055d3de",
   "metadata": {},
   "outputs": [],
   "source": [
    "import matplotlib.pyplot as plt\n"
   ]
  },
  {
   "cell_type": "code",
   "execution_count": 9,
   "id": "1969aeb7-a046-42d8-b6ea-11c10fc6c462",
   "metadata": {},
   "outputs": [
    {
     "data": {
      "image/png": "[encoded data removed]",
      "text/plain": [
       "<Figure size 432x288 with 1 Axes>"
      ]
     },
     "metadata": {
      "needs_background": "light"
     },
     "output_type": "display_data"
    }
   ],
   "source": [
    "mean = [0, -1, 2.3, 4, -0.23]\n",
    "std = [0.5, 0, 1, 0.2, 2]\n",
    "gender = [0, 0, 0, 1, 1]\n",
    "style = [\"ro\", \"bo\"]\n",
    "for i in range(5):\n",
    "    plt.plot(mean[i], std[i], style[gender[i]])\n"
   ]
  },
  {
   "cell_type": "code",
   "execution_count": null,
   "id": "ab8fcda4-90e6-4836-929b-f18dd6c08313",
   "metadata": {},
   "outputs": [],
   "source": []
  }
 ],
 "metadata": {
  "kernelspec": {
   "display_name": "fastspeech",
   "language": "python",
   "name": "fastspeech"
  },
  "language_info": {
   "codemirror_mode": {
    "name": "ipython",
    "version": 3
   },
   "file_extension": ".py",
   "mimetype": "text/x-python",
   "name": "python",
   "nbconvert_exporter": "python",
   "pygments_lexer": "ipython3",
   "version": "3.8.11"
  }
 },
 "nbformat": 4,
 "nbformat_minor": 5
}
