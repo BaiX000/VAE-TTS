{
 "cells": [
  {
   "cell_type": "code",
   "execution_count": 26,
   "id": "a8214b04-3d77-4c2c-9c91-1ff1b055d3de",
   "metadata": {},
   "outputs": [
    {
     "name": "stdout",
     "output_type": "stream",
     "text": [
      "0.8887676150052556\n"
     ]
    }
   ],
   "source": [
    "import random\n",
    "print( random.random())"
   ]
  },
  {
   "cell_type": "code",
   "execution_count": null,
   "id": "1100a9dc-913e-4910-9ad6-9c798370262c",
   "metadata": {},
   "outputs": [],
   "source": []
  }
 ],
 "metadata": {
  "kernelspec": {
   "display_name": "Python 3 (ipykernel)",
   "language": "python",
   "name": "python3"
  },
  "language_info": {
   "codemirror_mode": {
    "name": "ipython",
    "version": 3
   },
   "file_extension": ".py",
   "mimetype": "text/x-python",
   "name": "python",
   "nbconvert_exporter": "python",
   "pygments_lexer": "ipython3",
   "version": "3.8.10"
  }
 },
 "nbformat": 4,
 "nbformat_minor": 5
}
